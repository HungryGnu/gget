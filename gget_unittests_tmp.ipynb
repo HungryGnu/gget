{
 "cells": [
  {
   "cell_type": "code",
   "execution_count": 11,
   "metadata": {},
   "outputs": [
    {
     "name": "stderr",
     "output_type": "stream",
     "text": [
      "10:32:12 - INFO - Retrieved 29/29 DepMap entries.\n"
     ]
    }
   ],
   "source": [
    "import gget\n",
    "import json\n",
    "import pandas as pd\n",
    "import hashlib\n",
    "result_to_test = gget.opentargets(\n",
    "    ensembl_id=\"ENSG00000169194\",\n",
    "    resource=\"depmap\",\n",
    "    filters={\"tissue_id\": \"UBERON_0002367\"},\n",
    "    limit=2,\n",
    ")"
   ]
  },
  {
   "cell_type": "code",
   "execution_count": 10,
   "metadata": {},
   "outputs": [
    {
     "name": "stdout",
     "output_type": "stream",
     "text": [
      "fd61cddc33839addf3c8377d9e62d2b1\n"
     ]
    }
   ],
   "source": [
    "if isinstance(result_to_test, pd.DataFrame):\n",
    "    result_to_test = result_to_test.dropna(axis=1).values.tolist()\n",
    "result_to_test = json.dumps(result_to_test)\n",
    "result_to_test = hashlib.md5(result_to_test.encode()).hexdigest()\n",
    "print(result_to_test)"
   ]
  },
  {
   "cell_type": "code",
   "execution_count": 12,
   "metadata": {},
   "outputs": [
    {
     "name": "stdout",
     "output_type": "stream",
     "text": [
      "[\n",
      "    [\n",
      "        \"ACH-000956\",\n",
      "        0.0,\n",
      "        0.20797996,\n",
      "        \"UBERON_0002367\",\n",
      "        \"prostate gland\",\n",
      "        \"22Rv1\",\n",
      "        \"SIDM00499\",\n",
      "        \"Prostate Adenocarcinoma\",\n",
      "        null\n",
      "    ],\n",
      "    [\n",
      "        \"ACH-001422\",\n",
      "        0.028569153,\n",
      "        0.08538722,\n",
      "        \"UBERON_0002367\",\n",
      "        \"prostate gland\",\n",
      "        \"WPE1-NA22\",\n",
      "        null,\n",
      "        \"Non-Cancerous\",\n",
      "        null\n",
      "    ]\n",
      "]\n"
     ]
    }
   ],
   "source": [
    "list_of_lists = result_to_test.values.tolist()\n",
    "print(json.dumps(list_of_lists, indent=4))"
   ]
  },
  {
   "cell_type": "code",
   "execution_count": 2,
   "metadata": {},
   "outputs": [
    {
     "name": "stderr",
     "output_type": "stream",
     "text": [
      "Extracting k-mer left flank sequences: 100%|██████████| 1/1 [00:00<00:00, 1706.39it/s]\n",
      "Extracting k-mer right flank sequences: 100%|██████████| 1/1 [00:00<00:00, 4604.07it/s]\n",
      "14:23:07 - INFO - All mutations correctly recorded\n",
      "14:23:07 - INFO - Merging identical mutated sequences\n",
      "14:23:07 - INFO - 0 identical mutated sequences were merged (headers were combined and separated using a semicolon (;). Occurences of identical mutated sequences may be reduced by increasing k.\n"
     ]
    },
    {
     "data": {
      "text/plain": [
       "['ACCCCGCCCCTCCCCGCCCCACCCCGCCCCGCCCCGCCCCACCCCGCCCCTCCCCGCCCCA']"
      ]
     },
     "execution_count": 2,
     "metadata": {},
     "output_type": "execute_result"
    }
   ],
   "source": [
    "import gget\n",
    "result = gget.mutate(\n",
    "    mutations=\"c.40T>G\",\n",
    "    k=30,\n",
    "    sequences=\"CCCCGCCCCACCCCGCCCCTCCCCGCCCCACCCCGCCCCTCCCCGCCCCACCCCGCCCCTCCCCGCCCCACCCCGCCCCTCCCCGCCCCACCCCGCCCCTCCCCGCCCCACCCCGCCCCTCCCCGCCCCACCCCG\"\n",
    ")\n",
    "\n",
    "result"
   ]
  },
  {
   "cell_type": "code",
   "execution_count": 4,
   "metadata": {},
   "outputs": [
    {
     "data": {
      "text/plain": [
       "61"
      ]
     },
     "execution_count": 4,
     "metadata": {},
     "output_type": "execute_result"
    }
   ],
   "source": [
    "len(\"ACCCCGCCCCTCCCCGCCCCACCCCGCCCCGCCCCGCCCCACCCCGCCCCTCCCCGCCCCA\")"
   ]
  }
 ],
 "metadata": {
  "kernelspec": {
   "display_name": "gget_local",
   "language": "python",
   "name": "python3"
  },
  "language_info": {
   "codemirror_mode": {
    "name": "ipython",
    "version": 3
   },
   "file_extension": ".py",
   "mimetype": "text/x-python",
   "name": "python",
   "nbconvert_exporter": "python",
   "pygments_lexer": "ipython3",
   "version": "3.10.16"
  }
 },
 "nbformat": 4,
 "nbformat_minor": 2
}
